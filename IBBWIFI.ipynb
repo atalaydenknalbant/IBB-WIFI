{
 "cells": [
  {
   "cell_type": "markdown",
   "source": [
    "# IBB Wifi Data Inspection and Forecasting"
   ],
   "metadata": {
    "collapsed": false
   }
  },
  {
   "cell_type": "markdown",
   "source": [
    "## Summary\n",
    "This dataset contains the number of users of IBB Wi-Fi Locations by years. The dataset contains static locations(station) represented as known location names and also contains moving vehicle name codes which are known as public transport vehicles. This dataset doesn’t have Geospatial data all locations listed by their names. Additionally, 2021 data looks incomplete in terms of numbers so we might need to consider this factor when using it."
   ],
   "metadata": {
    "collapsed": false
   }
  },
  {
   "cell_type": "markdown",
   "source": [
    "## Importing Libraries"
   ],
   "metadata": {
    "collapsed": false
   }
  },
  {
   "cell_type": "code",
   "execution_count": 1,
   "metadata": {
    "collapsed": true
   },
   "outputs": [
    {
     "name": "stdout",
     "output_type": "stream",
     "text": [
      "You are using the Extract API 2.0, please save the output as .hyper format\n"
     ]
    }
   ],
   "source": [
    "import tensorflow as tf\n",
    "import vehicle as vehicle\n",
    "from tensorflow import keras\n",
    "from keras import layers\n",
    "import pandas as pd\n",
    "import matplotlib.pyplot as plt\n",
    "import seaborn as sns\n",
    "import numpy as np\n",
    "import tabpy\n",
    "from sklearn import preprocessing\n",
    "from sklearn.model_selection import train_test_split\n",
    "from tensorflow.python.ops.control_flow_ops import case\n",
    "import tableauserverclient as TSC\n",
    "from pandleau import *"
   ]
  },
  {
   "cell_type": "markdown",
   "source": [
    "## Load Data"
   ],
   "metadata": {
    "collapsed": false
   }
  },
  {
   "cell_type": "markdown",
   "source": [
    "Find out how many locations in the dataset."
   ],
   "metadata": {
    "collapsed": false
   }
  },
  {
   "cell_type": "code",
   "execution_count": 2,
   "outputs": [
    {
     "name": "stdout",
     "output_type": "stream",
     "text": [
      "Total Locations: 4475\n"
     ]
    }
   ],
   "source": [
    "df = pd.read_csv('https://data.ibb.gov.tr/dataset/2994fdcd-4710-4d9f-91eb-cbe7e915899f/resource/c4ff3626-4092-4669-a1da-04b7294553d7/download/ibb-wi-fi-noktalar-yllara-gore-kullanc-says.csv', encoding ='latin1', sep=';')\n",
    "print(f'Total Locations: {len(df)}')\n"
   ],
   "metadata": {
    "collapsed": false,
    "pycharm": {
     "name": "#%%\n"
    }
   }
  },
  {
   "cell_type": "code",
   "execution_count": 3,
   "outputs": [
    {
     "data": {
      "text/plain": "          Konum      2019     2020   2021\n0     PDM Fatih         8        0      0\n1    IETT-O3041    509771    71799   1710\n2  ISKI-Esenler   1504313  1243715  11428\n3          Null  25120646     4612    282\n4    IETT-B5060    129208    38182    635",
      "text/html": "<div>\n<style scoped>\n    .dataframe tbody tr th:only-of-type {\n        vertical-align: middle;\n    }\n\n    .dataframe tbody tr th {\n        vertical-align: top;\n    }\n\n    .dataframe thead th {\n        text-align: right;\n    }\n</style>\n<table border=\"1\" class=\"dataframe\">\n  <thead>\n    <tr style=\"text-align: right;\">\n      <th></th>\n      <th>Konum</th>\n      <th>2019</th>\n      <th>2020</th>\n      <th>2021</th>\n    </tr>\n  </thead>\n  <tbody>\n    <tr>\n      <th>0</th>\n      <td>PDM Fatih</td>\n      <td>8</td>\n      <td>0</td>\n      <td>0</td>\n    </tr>\n    <tr>\n      <th>1</th>\n      <td>IETT-O3041</td>\n      <td>509771</td>\n      <td>71799</td>\n      <td>1710</td>\n    </tr>\n    <tr>\n      <th>2</th>\n      <td>ISKI-Esenler</td>\n      <td>1504313</td>\n      <td>1243715</td>\n      <td>11428</td>\n    </tr>\n    <tr>\n      <th>3</th>\n      <td>Null</td>\n      <td>25120646</td>\n      <td>4612</td>\n      <td>282</td>\n    </tr>\n    <tr>\n      <th>4</th>\n      <td>IETT-B5060</td>\n      <td>129208</td>\n      <td>38182</td>\n      <td>635</td>\n    </tr>\n  </tbody>\n</table>\n</div>"
     },
     "execution_count": 3,
     "metadata": {},
     "output_type": "execute_result"
    }
   ],
   "source": [
    "df.head(5)"
   ],
   "metadata": {
    "collapsed": false,
    "pycharm": {
     "name": "#%%\n"
    }
   }
  },
  {
   "cell_type": "markdown",
   "source": [
    "## Preprocess Data"
   ],
   "metadata": {
    "collapsed": false
   }
  },
  {
   "cell_type": "markdown",
   "source": [
    "There is an unknown location in the dataset. We can change it to \"Unknown Location\" for a more explaining name."
   ],
   "metadata": {
    "collapsed": false
   }
  },
  {
   "cell_type": "code",
   "execution_count": 4,
   "outputs": [
    {
     "data": {
      "text/plain": "              Konum      2019     2020   2021\n0         PDM Fatih         8        0      0\n1        IETT-O3041    509771    71799   1710\n2      ISKI-Esenler   1504313  1243715  11428\n3  Unknown Location  25120646     4612    282\n4        IETT-B5060    129208    38182    635",
      "text/html": "<div>\n<style scoped>\n    .dataframe tbody tr th:only-of-type {\n        vertical-align: middle;\n    }\n\n    .dataframe tbody tr th {\n        vertical-align: top;\n    }\n\n    .dataframe thead th {\n        text-align: right;\n    }\n</style>\n<table border=\"1\" class=\"dataframe\">\n  <thead>\n    <tr style=\"text-align: right;\">\n      <th></th>\n      <th>Konum</th>\n      <th>2019</th>\n      <th>2020</th>\n      <th>2021</th>\n    </tr>\n  </thead>\n  <tbody>\n    <tr>\n      <th>0</th>\n      <td>PDM Fatih</td>\n      <td>8</td>\n      <td>0</td>\n      <td>0</td>\n    </tr>\n    <tr>\n      <th>1</th>\n      <td>IETT-O3041</td>\n      <td>509771</td>\n      <td>71799</td>\n      <td>1710</td>\n    </tr>\n    <tr>\n      <th>2</th>\n      <td>ISKI-Esenler</td>\n      <td>1504313</td>\n      <td>1243715</td>\n      <td>11428</td>\n    </tr>\n    <tr>\n      <th>3</th>\n      <td>Unknown Location</td>\n      <td>25120646</td>\n      <td>4612</td>\n      <td>282</td>\n    </tr>\n    <tr>\n      <th>4</th>\n      <td>IETT-B5060</td>\n      <td>129208</td>\n      <td>38182</td>\n      <td>635</td>\n    </tr>\n  </tbody>\n</table>\n</div>"
     },
     "execution_count": 4,
     "metadata": {},
     "output_type": "execute_result"
    }
   ],
   "source": [
    "df['Konum'] = df['Konum'].replace(['Null'],'Unknown Location')\n",
    "df.head(5)"
   ],
   "metadata": {
    "collapsed": false,
    "pycharm": {
     "name": "#%%\n"
    }
   }
  },
  {
   "cell_type": "markdown",
   "source": [
    "Check null, N/A, empty string values in dataset."
   ],
   "metadata": {
    "collapsed": false
   }
  },
  {
   "cell_type": "code",
   "execution_count": 5,
   "outputs": [
    {
     "name": "stdout",
     "output_type": "stream",
     "text": [
      "Konum    0\n",
      "2019     0\n",
      "2020     0\n",
      "2021     0\n",
      "dtype: int64\n",
      "Total Empty Strings:0\n"
     ]
    }
   ],
   "source": [
    "print(df.isnull().sum())\n",
    "print(f'Total Empty Strings:{(df[\"Konum\"].values == \"\").sum()}')"
   ],
   "metadata": {
    "collapsed": false,
    "pycharm": {
     "name": "#%%\n"
    }
   }
  },
  {
   "cell_type": "markdown",
   "source": [
    "### Separating Station data from Public Transport Vehicle data by adding extra information column"
   ],
   "metadata": {
    "collapsed": false
   }
  },
  {
   "cell_type": "code",
   "execution_count": 6,
   "outputs": [
    {
     "data": {
      "text/plain": "                                     Konum      2019     2020   2021     Type\n0                                PDM Fatih         8        0      0  station\n1                               IETT-O3041    509771    71799   1710  vehicle\n2                             ISKI-Esenler   1504313  1243715  11428  station\n3                         Unknown Location  25120646     4612    282  station\n4                               IETT-B5060    129208    38182    635  vehicle\n...                                    ...       ...      ...    ...      ...\n4470  017-Cemberlitas Nuriosmaniye Caddesi       426        0      0  station\n4471             ErdemBeyazitKutuphanesi-2    100199        0      0  station\n4472        018-IBB Tercih Merkezi Beyoglu         0    28643      0  station\n4473                            IETT-O3040    311873    82873   1070  vehicle\n4474                             IETT-A456     40080        0      0  vehicle\n\n[4475 rows x 5 columns]",
      "text/html": "<div>\n<style scoped>\n    .dataframe tbody tr th:only-of-type {\n        vertical-align: middle;\n    }\n\n    .dataframe tbody tr th {\n        vertical-align: top;\n    }\n\n    .dataframe thead th {\n        text-align: right;\n    }\n</style>\n<table border=\"1\" class=\"dataframe\">\n  <thead>\n    <tr style=\"text-align: right;\">\n      <th></th>\n      <th>Konum</th>\n      <th>2019</th>\n      <th>2020</th>\n      <th>2021</th>\n      <th>Type</th>\n    </tr>\n  </thead>\n  <tbody>\n    <tr>\n      <th>0</th>\n      <td>PDM Fatih</td>\n      <td>8</td>\n      <td>0</td>\n      <td>0</td>\n      <td>station</td>\n    </tr>\n    <tr>\n      <th>1</th>\n      <td>IETT-O3041</td>\n      <td>509771</td>\n      <td>71799</td>\n      <td>1710</td>\n      <td>vehicle</td>\n    </tr>\n    <tr>\n      <th>2</th>\n      <td>ISKI-Esenler</td>\n      <td>1504313</td>\n      <td>1243715</td>\n      <td>11428</td>\n      <td>station</td>\n    </tr>\n    <tr>\n      <th>3</th>\n      <td>Unknown Location</td>\n      <td>25120646</td>\n      <td>4612</td>\n      <td>282</td>\n      <td>station</td>\n    </tr>\n    <tr>\n      <th>4</th>\n      <td>IETT-B5060</td>\n      <td>129208</td>\n      <td>38182</td>\n      <td>635</td>\n      <td>vehicle</td>\n    </tr>\n    <tr>\n      <th>...</th>\n      <td>...</td>\n      <td>...</td>\n      <td>...</td>\n      <td>...</td>\n      <td>...</td>\n    </tr>\n    <tr>\n      <th>4470</th>\n      <td>017-Cemberlitas Nuriosmaniye Caddesi</td>\n      <td>426</td>\n      <td>0</td>\n      <td>0</td>\n      <td>station</td>\n    </tr>\n    <tr>\n      <th>4471</th>\n      <td>ErdemBeyazitKutuphanesi-2</td>\n      <td>100199</td>\n      <td>0</td>\n      <td>0</td>\n      <td>station</td>\n    </tr>\n    <tr>\n      <th>4472</th>\n      <td>018-IBB Tercih Merkezi Beyoglu</td>\n      <td>0</td>\n      <td>28643</td>\n      <td>0</td>\n      <td>station</td>\n    </tr>\n    <tr>\n      <th>4473</th>\n      <td>IETT-O3040</td>\n      <td>311873</td>\n      <td>82873</td>\n      <td>1070</td>\n      <td>vehicle</td>\n    </tr>\n    <tr>\n      <th>4474</th>\n      <td>IETT-A456</td>\n      <td>40080</td>\n      <td>0</td>\n      <td>0</td>\n      <td>vehicle</td>\n    </tr>\n  </tbody>\n</table>\n<p>4475 rows × 5 columns</p>\n</div>"
     },
     "execution_count": 6,
     "metadata": {},
     "output_type": "execute_result"
    }
   ],
   "source": [
    "def vehicleorstation(x):\n",
    "    \"\"\"\" Function to find if given location either vehicle or station\"\"\"\n",
    "    if 'IETT-' in x:\n",
    "        return 'vehicle'\n",
    "    elif 'Metrobus-' in x:\n",
    "        return 'vehicle'\n",
    "    elif 'Metretrobus-' in x:\n",
    "        return 'vehicle'\n",
    "    elif 'HAVAIST-' in x:\n",
    "        return 'vehicle'\n",
    "    elif 'BLNT-' in x:\n",
    "        return 'vehicle'\n",
    "    elif 'BELNET-' in x:\n",
    "        return 'vehicle'\n",
    "    elif 'Belnet-' in x:\n",
    "        return 'vehicle'\n",
    "    elif 'ÝETT-' in x:\n",
    "        return 'vehicle'\n",
    "    elif 'HAVATAS-' in x:\n",
    "        return 'vehicle'\n",
    "    elif 'Deniz Otobus' in x:\n",
    "        return 'vehicle'\n",
    "    elif 'Metobus-' in x:\n",
    "        return 'vehicle'\n",
    "    else:\n",
    "        return 'station'\n",
    "df['Type'] = df.Konum.apply(lambda x: vehicleorstation(x))\n",
    "df"
   ],
   "metadata": {
    "collapsed": false,
    "pycharm": {
     "name": "#%%\n"
    }
   }
  },
  {
   "cell_type": "markdown",
   "source": [
    "## Export Dataset to Tableau"
   ],
   "metadata": {
    "collapsed": false
   }
  },
  {
   "cell_type": "code",
   "execution_count": 7,
   "outputs": [
    {
     "name": "stdout",
     "output_type": "stream",
     "text": [
      "Table 'Extract' does not exist in extract mydata.hyper, creating.\n"
     ]
    },
    {
     "name": "stderr",
     "output_type": "stream",
     "text": [
      "processing table: 4475it [00:00, 50852.93it/s]\n"
     ]
    }
   ],
   "source": [
    "pand_df = pandleau(df)\n",
    "pand_df.to_tableau('mydata.hyper', add_index=False)"
   ],
   "metadata": {
    "collapsed": false,
    "pycharm": {
     "name": "#%%\n"
    }
   }
  },
  {
   "cell_type": "markdown",
   "source": [
    "## Data Inspection"
   ],
   "metadata": {
    "collapsed": false
   }
  },
  {
   "cell_type": "markdown",
   "source": [
    "### Total Vehicles and Stations"
   ],
   "metadata": {
    "collapsed": false
   }
  },
  {
   "cell_type": "code",
   "execution_count": null,
   "outputs": [],
   "source": [],
   "metadata": {
    "collapsed": false,
    "pycharm": {
     "name": "#%%\n"
    }
   }
  }
 ],
 "metadata": {
  "kernelspec": {
   "display_name": "Python 3",
   "language": "python",
   "name": "python3"
  },
  "language_info": {
   "codemirror_mode": {
    "name": "ipython",
    "version": 2
   },
   "file_extension": ".py",
   "mimetype": "text/x-python",
   "name": "python",
   "nbconvert_exporter": "python",
   "pygments_lexer": "ipython2",
   "version": "2.7.6"
  }
 },
 "nbformat": 4,
 "nbformat_minor": 0
}